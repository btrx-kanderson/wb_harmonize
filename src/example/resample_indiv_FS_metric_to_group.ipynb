{
 "cells": [
  {
   "cell_type": "code",
   "execution_count": 1,
   "source": [
    "import os\n",
    "from wb_harmonize import wb_harmonize\n",
    "\n",
    "\n",
    "# set up example data directories\n",
    "sub_id     = 'bert'\n",
    "output_dir = './output'\n",
    "fs_dir     = './example_data/{}'.format(sub_id)\n",
    "\n",
    "# output directory for resampled data\n",
    "sub_out_dir = os.path.join(output_dir, 'bert')\n",
    "if not os.path.exists(sub_out_dir):\n",
    "    os.mkdir(sub_out_dir)\n",
    "\n",
    "\n",
    "# resample thickness/volume/surface area data from individual freesurfer space to fslr32k group space\n",
    "wb_harmonize.resample_fsIndiv_to_group(fs_dir, 'fslr32k', ['thickness', 'volume', 'area'], sub_out_dir)\n"
   ],
   "outputs": [],
   "metadata": {}
  },
  {
   "cell_type": "code",
   "execution_count": 2,
   "source": [
    "# show output files\n",
    "os.listdir(sub_out_dir)"
   ],
   "outputs": [
    {
     "output_type": "execute_result",
     "data": {
      "text/plain": [
       "['rh.fslr32k.area.func.gii',\n",
       " 'lh.fslr32k.thickness.func.gii',\n",
       " 'rh.fslr32k.thickness.func.gii',\n",
       " 'lh.fslr32k.volume.func.gii',\n",
       " 'rh.fslr32k.volume.func.gii',\n",
       " 'lh.fslr32k.area.func.gii']"
      ]
     },
     "metadata": {},
     "execution_count": 2
    }
   ],
   "metadata": {}
  }
 ],
 "metadata": {
  "orig_nbformat": 4,
  "language_info": {
   "name": "python",
   "version": "3.6.9",
   "mimetype": "text/x-python",
   "codemirror_mode": {
    "name": "ipython",
    "version": 3
   },
   "pygments_lexer": "ipython3",
   "nbconvert_exporter": "python",
   "file_extension": ".py"
  },
  "kernelspec": {
   "name": "python3",
   "display_name": "Python 3.6.9 64-bit"
  },
  "interpreter": {
   "hash": "31f2aee4e71d21fbe5cf8b01ff0e069b9275f58929596ceb00d14d90e3e16cd6"
  }
 },
 "nbformat": 4,
 "nbformat_minor": 2
}